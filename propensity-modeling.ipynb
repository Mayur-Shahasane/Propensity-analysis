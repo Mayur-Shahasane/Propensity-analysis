{
 "cells": [
  {
   "cell_type": "code",
   "execution_count": 1,
   "metadata": {
    "collapsed": true
   },
   "outputs": [],
   "source": [
    "import numpy as np\n",
    "import pandas as pd\n",
    "from sklearn.linear_model import LogisticRegression\n"
   ]
  },
  {
   "cell_type": "code",
   "execution_count": 2,
   "metadata": {},
   "outputs": [],
   "source": [
    "directory = \"D:\\Customer Analytics\\Propensity analysis\"\n",
    "member_path = directory + \"\\Dataset\\member.csv\"\n",
    "restaurant_path = directory + \"\\Dataset\\\\restaurant.csv\"\n",
    "train_path = directory + \"\\Dataset\\\\train.csv\"\n",
    "check_path = directory + \"\\Dataset\\\\test.csv\"\n",
    "\n"
   ]
  },
  {
   "cell_type": "code",
   "execution_count": 3,
   "metadata": {},
   "outputs": [
    {
     "name": "stdout",
     "output_type": "stream",
     "text": [
      "Member Shape:\n(699200, 9)\nRestaurant Shape:\n(724, 17)\nTrain Shape:\n(116974, 11)\n"
     ]
    }
   ],
   "source": [
    "read_member = pd.read_csv(member_path)\n",
    "read_restaurant = pd.read_csv(restaurant_path)\n",
    "read_train = pd.read_csv(train_path)\n",
    "\n",
    "print(\"Member Shape:\")\n",
    "print(read_member.shape)\n",
    "\n",
    "print(\"Restaurant Shape:\")\n",
    "print(read_restaurant.shape)\n",
    "\n",
    "print(\"Train Shape:\")\n",
    "print(read_train.shape)"
   ]
  },
  {
   "cell_type": "code",
   "execution_count": 7,
   "metadata": {},
   "outputs": [
    {
     "name": "stdout",
     "output_type": "stream",
     "text": [
      "<class 'pandas.core.frame.DataFrame'>\nRangeIndex: 699200 entries, 0 to 699199\nData columns (total 9 columns):\nid               699200 non-null object\nis_vip           699200 non-null int64\ngender           699158 non-null object\nbirthdate        699200 non-null object\ncity             699200 non-null object\nhas_google_id    699200 non-null int64\nhas_yahoo_id     699200 non-null int64\nhas_weibo_id     699200 non-null int64\ncdate            699200 non-null object\ndtypes: int64(4), object(5)\nmemory usage: 48.0+ MB\nNone\n"
     ]
    }
   ],
   "source": [
    "print(read_member.info())"
   ]
  },
  {
   "cell_type": "code",
   "execution_count": 6,
   "metadata": {},
   "outputs": [
    {
     "name": "stdout",
     "output_type": "stream",
     "text": [
      "<class 'pandas.core.frame.DataFrame'>\nRangeIndex: 116974 entries, 0 to 116973\nData columns (total 11 columns):\nbooking_id                      116974 non-null int64\nmember_id                       116974 non-null object\ncdate                           116974 non-null object\nrestaurant_id                   116974 non-null object\ndatetime                        116974 non-null object\npeople                          116974 non-null int64\npurpose                         116974 non-null object\ngender                          116974 non-null object\nstatus                          116974 non-null object\nis_required_prepay_satisfied    116974 non-null int64\nreturn90                        116974 non-null int64\ndtypes: int64(4), object(7)\nmemory usage: 9.8+ MB\nNone\n"
     ]
    }
   ],
   "source": [
    "print(read_train.info())"
   ]
  },
  {
   "cell_type": "code",
   "execution_count": 8,
   "metadata": {},
   "outputs": [
    {
     "name": "stdout",
     "output_type": "stream",
     "text": [
      "<class 'pandas.core.frame.DataFrame'>\nRangeIndex: 724 entries, 0 to 723\nData columns (total 17 columns):\nid                       724 non-null object\nis_hotel                 724 non-null object\ncountry                  724 non-null object\ncurrency                 724 non-null object\ncity                     724 non-null object\ngood_for_family          724 non-null object\naccept_credit_card       724 non-null object\nparking                  724 non-null object\noutdoor_seating          724 non-null object\nwifi                     724 non-null object\nwheelchair_accessible    724 non-null object\nprice1                   724 non-null int64\nprice2                   724 non-null int64\nlat                      724 non-null float64\nlng                      724 non-null float64\ncdateYear                724 non-null int64\ncdateMonth               724 non-null int64\ndtypes: float64(2), int64(4), object(11)\nmemory usage: 96.2+ KB\nNone\n"
     ]
    }
   ],
   "source": [
    "print(read_restaurant.info())"
   ]
  },
  {
   "cell_type": "code",
   "execution_count": null,
   "metadata": {},
   "outputs": [],
   "source": [
    "# train is like booking table \n",
    "# We can merge the restaurant and member in test df \n",
    "\n",
    "# to merge we need to have column name same also we need to perform left join on table \n",
    "\n",
    "\n",
    "\n"
   ]
  }
 ],
 "metadata": {
  "kernelspec": {
   "display_name": "Python 2",
   "language": "python",
   "name": "python2"
  },
  "language_info": {
   "codemirror_mode": {
    "name": "ipython",
    "version": 2
   },
   "file_extension": ".py",
   "mimetype": "text/x-python",
   "name": "python",
   "nbconvert_exporter": "python",
   "pygments_lexer": "ipython2",
   "version": "2.7.6"
  }
 },
 "nbformat": 4,
 "nbformat_minor": 0
}
