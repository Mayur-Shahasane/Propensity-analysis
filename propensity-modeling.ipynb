{
 "cells": [
  {
   "cell_type": "code",
   "execution_count": 21,
   "metadata": {
    "collapsed": true
   },
   "outputs": [],
   "source": [
    "import numpy as np\n",
    "import pandas as pd\n",
    "from sklearn.linear_model import LogisticRegression\n"
   ]
  },
  {
   "cell_type": "code",
   "execution_count": 22,
   "metadata": {},
   "outputs": [],
   "source": [
    "directory = \"D:\\Customer Analytics\\Propensity-analysis\"\n",
    "member_path = directory + \"\\Dataset\\member.csv\"\n",
    "restaurant_path = directory + \"\\Dataset\\\\restaurant.csv\"\n",
    "train_path = directory + \"\\Dataset\\\\train.csv\"\n",
    "check_path = directory + \"\\Dataset\\\\test.csv\"\n",
    "\n"
   ]
  },
  {
   "cell_type": "code",
   "execution_count": 24,
   "metadata": {},
   "outputs": [
    {
     "name": "stdout",
     "output_type": "stream",
     "text": [
      "Member Shape:\n(699200, 9)\nRestaurant Shape:\n(724, 17)\nTrain Shape:\n(116974, 11)\n"
     ]
    }
   ],
   "source": [
    "read_member = pd.read_csv(member_path)\n",
    "read_restaurant = pd.read_csv(restaurant_path)\n",
    "read_train = pd.read_csv(train_path)\n",
    "\n",
    "print(\"Member Shape:\")\n",
    "print(read_member.shape)\n",
    "\n",
    "print(\"Restaurant Shape:\")\n",
    "print(read_restaurant.shape)\n",
    "\n",
    "print(\"Train Shape:\")\n",
    "print(read_train.shape)"
   ]
  },
  {
   "cell_type": "code",
   "execution_count": 25,
   "metadata": {},
   "outputs": [
    {
     "name": "stdout",
     "output_type": "stream",
     "text": [
      "<class 'pandas.core.frame.DataFrame'>\nRangeIndex: 699200 entries, 0 to 699199\nData columns (total 9 columns):\nid               699200 non-null object\nis_vip           699200 non-null int64\ngender           699158 non-null object\nbirthdate        699200 non-null object\ncity             699200 non-null object\nhas_google_id    699200 non-null int64\nhas_yahoo_id     699200 non-null int64\nhas_weibo_id     699200 non-null int64\ncdate            699200 non-null object\ndtypes: int64(4), object(5)\nmemory usage: 48.0+ MB\nNone\n"
     ]
    }
   ],
   "source": [
    "print(read_member.info())"
   ]
  },
  {
   "cell_type": "code",
   "execution_count": 26,
   "metadata": {},
   "outputs": [
    {
     "name": "stdout",
     "output_type": "stream",
     "text": [
      "<class 'pandas.core.frame.DataFrame'>\nRangeIndex: 116974 entries, 0 to 116973\nData columns (total 11 columns):\nbooking_id                      116974 non-null int64\nmember_id                       116974 non-null object\ncdate                           116974 non-null object\nrestaurant_id                   116974 non-null object\ndatetime                        116974 non-null object\npeople                          116974 non-null int64\npurpose                         116974 non-null object\ngender                          116974 non-null object\nstatus                          116974 non-null object\nis_required_prepay_satisfied    116974 non-null int64\nreturn90                        116974 non-null int64\ndtypes: int64(4), object(7)\nmemory usage: 9.8+ MB\nNone\n"
     ]
    }
   ],
   "source": [
    "print(read_train.info())"
   ]
  },
  {
   "cell_type": "code",
   "execution_count": 27,
   "metadata": {},
   "outputs": [
    {
     "name": "stdout",
     "output_type": "stream",
     "text": [
      "<class 'pandas.core.frame.DataFrame'>\nRangeIndex: 724 entries, 0 to 723\nData columns (total 17 columns):\nid                       724 non-null object\nis_hotel                 724 non-null object\ncountry                  724 non-null object\ncurrency                 724 non-null object\ncity                     724 non-null object\ngood_for_family          724 non-null object\naccept_credit_card       724 non-null object\nparking                  724 non-null object\noutdoor_seating          724 non-null object\nwifi                     724 non-null object\nwheelchair_accessible    724 non-null object\nprice1                   724 non-null int64\nprice2                   724 non-null int64\nlat                      724 non-null float64\nlng                      724 non-null float64\ncdateYear                724 non-null int64\ncdateMonth               724 non-null int64\ndtypes: float64(2), int64(4), object(11)\nmemory usage: 96.2+ KB\nNone\n"
     ]
    }
   ],
   "source": [
    "print(read_restaurant.info())"
   ]
  },
  {
   "cell_type": "code",
   "execution_count": 28,
   "metadata": {},
   "outputs": [
    {
     "name": "stdout",
     "output_type": "stream",
     "text": [
      "<class 'pandas.core.frame.DataFrame'>\nRangeIndex: 699200 entries, 0 to 699199\nData columns (total 9 columns):\nmember_id        699200 non-null object\nis_vip           699200 non-null int64\ngender           699158 non-null object\nbirthdate        699200 non-null object\ncity             699200 non-null object\nhas_google_id    699200 non-null int64\nhas_yahoo_id     699200 non-null int64\nhas_weibo_id     699200 non-null int64\ncdate            699200 non-null object\ndtypes: int64(4), object(5)\nmemory usage: 48.0+ MB\nNone\n<class 'pandas.core.frame.DataFrame'>\nRangeIndex: 724 entries, 0 to 723\nData columns (total 17 columns):\nrestaurant_id            724 non-null object\nis_hotel                 724 non-null object\ncountry                  724 non-null object\ncurrency                 724 non-null object\ncity                     724 non-null object\ngood_for_family          724 non-null object\naccept_credit_card       724 non-null object\nparking                  724 non-null object\noutdoor_seating          724 non-null object\nwifi                     724 non-null object\nwheelchair_accessible    724 non-null object\nprice1                   724 non-null int64\nprice2                   724 non-null int64\nlat                      724 non-null float64\nlng                      724 non-null float64\ncdateYear                724 non-null int64\ncdateMonth               724 non-null int64\ndtypes: float64(2), int64(4), object(11)\nmemory usage: 96.2+ KB\nNone\n"
     ]
    }
   ],
   "source": [
    "# train is like booking table \n",
    "# We can merge the restaurant and member in test df \n",
    "\n",
    "# to merge we need to have column name same also we need to perform left join on table \n",
    "\n",
    "read_member.rename(columns={'id':'member_id'}, inplace=True)\n",
    "read_restaurant.rename(columns={'id':'restaurant_id'}, inplace=True)\n",
    "print(read_member.info())\n",
    "print(read_restaurant.info())\n",
    "\n",
    "\n"
   ]
  },
  {
   "cell_type": "code",
   "execution_count": 29,
   "metadata": {},
   "outputs": [
    {
     "name": "stdout",
     "output_type": "stream",
     "text": [
      "(116974, 19)\n"
     ]
    },
    {
     "name": "stdout",
     "output_type": "stream",
     "text": [
      "<class 'pandas.core.frame.DataFrame'>\nInt64Index: 116974 entries, 0 to 116973\nData columns (total 19 columns):\nbooking_id                      116974 non-null int64\nmember_id                       116974 non-null object\ncdate_x                         116974 non-null object\nrestaurant_id                   116974 non-null object\ndatetime                        116974 non-null object\npeople                          116974 non-null int64\npurpose                         116974 non-null object\ngender_x                        116974 non-null object\nstatus                          116974 non-null object\nis_required_prepay_satisfied    116974 non-null int64\nreturn90                        116974 non-null int64\nis_vip                          107876 non-null float64\ngender_y                        107873 non-null object\nbirthdate                       107876 non-null object\ncity                            107876 non-null object\nhas_google_id                   107876 non-null float64\nhas_yahoo_id                    107876 non-null float64\nhas_weibo_id                    107876 non-null float64\ncdate_y                         107876 non-null object\ndtypes: float64(4), int64(4), object(11)\nmemory usage: 17.8+ MB\nNone\n"
     ]
    }
   ],
   "source": [
    "read_train = pd.merge(read_train,read_member, on=\"member_id\", how=\"left\")\n",
    "print(read_train.shape)\n",
    "print(read_train.info())"
   ]
  },
  {
   "cell_type": "code",
   "execution_count": 30,
   "metadata": {},
   "outputs": [
    {
     "name": "stdout",
     "output_type": "stream",
     "text": [
      "(116974, 35)\n"
     ]
    },
    {
     "name": "stdout",
     "output_type": "stream",
     "text": [
      "<class 'pandas.core.frame.DataFrame'>\nInt64Index: 116974 entries, 0 to 116973\nData columns (total 35 columns):\nbooking_id                      116974 non-null int64\nmember_id                       116974 non-null object\ncdate_x                         116974 non-null object\nrestaurant_id                   116974 non-null object\ndatetime                        116974 non-null object\npeople                          116974 non-null int64\npurpose                         116974 non-null object\ngender_x                        116974 non-null object\nstatus                          116974 non-null object\nis_required_prepay_satisfied    116974 non-null int64\nreturn90                        116974 non-null int64\nis_vip                          107876 non-null float64\ngender_y                        107873 non-null object\nbirthdate                       107876 non-null object\ncity_x                          107876 non-null object\nhas_google_id                   107876 non-null float64\nhas_yahoo_id                    107876 non-null float64\nhas_weibo_id                    107876 non-null float64\ncdate_y                         107876 non-null object\nis_hotel                        103629 non-null object\ncountry                         103629 non-null object\ncurrency                        103629 non-null object\ncity_y                          103629 non-null object\ngood_for_family                 103629 non-null object\naccept_credit_card              103629 non-null object\nparking                         103629 non-null object\noutdoor_seating                 103629 non-null object\nwifi                            103629 non-null object\nwheelchair_accessible           103629 non-null object\nprice1                          103629 non-null float64\nprice2                          103629 non-null float64\nlat                             103629 non-null float64\nlng                             103629 non-null float64\ncdateYear                       103629 non-null float64\ncdateMonth                      103629 non-null float64\ndtypes: float64(10), int64(4), object(21)\nmemory usage: 32.1+ MB\nNone\n"
     ]
    }
   ],
   "source": [
    "read_train = pd.merge(read_train,read_restaurant, on=\"restaurant_id\", how=\"left\")\n",
    "print(read_train.shape)\n",
    "print(read_train.info())"
   ]
  },
  {
   "cell_type": "code",
   "execution_count": 33,
   "metadata": {},
   "outputs": [],
   "source": [
    "# export the data \n",
    "\n",
    "read_train.to_csv(directory + \"Member_check.csv\")"
   ]
  },
  {
   "cell_type": "code",
   "execution_count": 39,
   "metadata": {},
   "outputs": [
    {
     "name": "stdout",
     "output_type": "stream",
     "text": [
      "                                         member_id\n                                              size\nmember_id                                         \n000036888f8cf9f0b9f931dee1536c6997bbbd27         1\n000462cdd95e750a50cd664021e037a5b471f5e2         1\n00049d1d216aa9674616749029571fecd453a42d         1\n0005612efb88671ddcb49ae213e7fd5e03a48989         1\n0006018a813099f8e12c6e6c369c4efe90528f5c         1\n00064625758afbe4b001fb83bf10dde4c4a1168c         1\n00065a442a0f5b402b24ea3a187568f360b37b3c         1\n0006ae6b5eabd6ee78206783d9b1ccda51cda190         1\n00071efe1982938e870e939a7765a87b5762e9df         1\n0007ace67056339e4521888dcc183c6a66de42f8         1\n0007af38d33a1690519856cb758e13afecfae625         1\n000927dad5c4f9bebc729ed506ebeb5d922879cb         1\n00096fc0f93b435fb9422647bc5fe035ac53a323         1\n000a42c6f40a7e39cb9aed75a17dddc74b159d69         1\n000aecb86729eb5853f95987090086ecabe4fb55         1\n000b543f5acfa1abb66d045f8d0c079df45a62a4         1\n000bc72d91303c3a3105ebf2c1d247acc9ff3f60         1\n000c46d5bab3f8bcace6650139d898771688d53e         1\n000c53796ce6d4228e4961d215886e048a8ee300         1\n000c9e10bcea17ecae57356c13fc86d43736a5f4         1\n000cc864211e4361953ef7816710df9fa6d5b00c         1\n000d0a52ab662d77c240d065a8493d1f871f9a9a         1\n000d804fbd21c8893f66f416c9ae7da0d40e50e8         1\n000dbfbde09862c3979a2db529d744595d490c1f         1\n000df43f3d475a1a4bf28147f4759ce0f7eee18d         1\n000e911009acbf4564470d65e90bedd2f48ebede         1\n001156b78bcf1ba425482e3e4a80d595eaac7a36         1\n00117c7fd1b4980a60cbcbbbe7c07fb6bef39373         1\n00117cbb4ee69c47619d6fccb039f9c740ea5b97         1\n001230f50e070e2cdb2149c3f6ec734ca43c3487         1\n...                                            ...\nffef721dc3eb910e7f47bee191de58c5f085ef06         1\nfff1a3f62f4b04935cb50fb39b1bec21c9dd57c5         1\nfff29ddcbf7c95226c99bc0ab36865392c788e1c         1\nfff3211cfb75784be96998e3f01121d2247b3457         1\nfff330c4731c04c9365b00c66e2a0c1b1e5123eb         1\nfff353a4075140d25905858da86e4e26a2a29b98         1\nfff39ade8d8888a6e216102ae9222ef5f42176d0         1\nfff41d5895aaa76e332f08b1f5fe0fc86758e381         1\nfff42383b53bd5e6220a42db2b07e2e4d27f52a1         1\nfff4cb7d95e185599f8aeda7d4e225d5a44167af         1\nfff52f8c47ba9cef8dbd245806a619ad00bde5d9         1\nfff6ba6c8ccd39f540c7826009452bb51c047d74         1\nfff7d380b444e0322d97d32e26f9a06ccdaf648b         1\nfff9c7e828caca2602705a96bd9fff8a2687a202         1\nfff9dd83d3e56664175b9ae9f13e71d360d75bb9         1\nfffb024a0c5dd55008c971cf5d1139a8e58e0de8         1\nfffb2e69caa613ed407c73a7a0bf92e2086eaa49         1\nfffbe4fab0c657e8d8fd020cb68ef7b12e657715         1\nfffc29671cd2d17b8a072b2a9a8a752f17c82eb8         1\nfffc8520528c7cbdde2aafe5558f00231956ca5d         1\nfffc905c659f76cc48edbfc96658f8113f1ddaad         1\nfffcd38dc06489622b2a4543a5b5957a875a7123         1\nfffe22f02edbc3ff7cde106ccfa794e601f9c816         1\nfffe64232186c9c2b05b131721c3bd220617ccfd         1\nfffeda24829479df4b63d14a1090d189665abdd0         1\nfffee164af98f02b453e3be1cafb01e80903687c         1\nffff47d021051f921e6c49944128918026bb4b30         1\nffff9124481a5da7f1a132b4dbe8131c8e3b9470         1\nffffacfc11d9df326a702543d3a65777e025492b         1\nfffffcadb81d825451897d1c63d8c3c5c9193995         1\n\n[116974 rows x 1 columns]\n"
     ]
    }
   ],
   "source": [
    "print(read_train.groupby([\"member_id\"]).agg({\"member_id\": [np.size]}))"
   ]
  },
  {
   "cell_type": "code",
   "execution_count": 40,
   "metadata": {},
   "outputs": [
    {
     "name": "stdout",
     "output_type": "stream",
     "text": [
      "                                         restaurant_id\n                                                  size\nrestaurant_id                                         \n00173fbbee383f89a785331530d7a8eba439f226             3\n00261cc87261cb6b0b11f6ba58c007922c679f04           197\n008629c5e3debd55acf0940431dffc78a58c1c7f             3\n00b9390dc5e3d51a1722876a56f94b2d10d17268           144\n01a8e11db57d6aacbd396ed9696596c8e2bd9e9a            70\n02120069271297cad74f45aa4d0040ddb1e722d8             1\n021f94d1efc9cb903f1ad8d5de68ea44c0ea6792            34\n029957684d4dffb49d126a539d48f93418e5fa2b           307\n02b0e714e9bba8f714f56cb0625063b566a5f006           225\n02cbea8f761597b09051da3ccb382cc087563b97             1\n0369802f9a60c4cba1df07ca04d36149852e9591             2\n03798944daccade199542a2ddc85a4852510a2d5             7\n03c046bf5d65d2defb24a8c66e931202f171500c            25\n03d09c8043879c226ca932ccd9d212a279ec5c81            75\n041990783f6d1782305fb43716e8b28e6ecb97ec            43\n0440fa58189659753549994d29071183b6be0a96             2\n04656f0184ca23b26e2e7e1f0bbbab36e3633efd            26\n047112b77716b3e6bfe1e40ce224a34106feb2d6            48\n04831f0020db369c5a6c7ce621dcbc97d5ab8e11           222\n04acd01edee62df179878804225867165486f715           138\n04b064f02f367599f7974a87065acb5e4bbd7ef8           531\n04ea0470ed59b38415c589cd9344be7aa1038c5f            46\n05016e125c93b8fab1aa03b1faacdfe2acd5bca4            22\n0572b40a00d2f1686914bc9f5754f64b69ace4ca            36\n0598fb6d47d13d53a28ea1c8afa1d7cc88e452fa             2\n059b9e6a5780894a7c0f76d8ee96372054e30681            18\n05bcd14b91ddf00129f64dbeaab0a99c521a53d8            34\n05c32bec220739a3ec6edbc3a8a236c947d49e7f           124\n05f2e97755341e843d6c7bb16879fda92f247e47             5\n06099ee12711458bb51a755ebffd411ca6433c85             3\n...                                                ...\nf7f226cccbe7ad0ad9ce3970ba823f48656e4503            23\nf81018b710d850376cb1bd63590d9b75c799cfcb           115\nf8607c9b871e1a2d9a961a311c42f26cefbb2e15            26\nf88c23080c1959dd17d488ca75af168e10d0b31b           381\nf93f8b13b15aac3da8f150ae196a35f720cc0dce             8\nf96cf850a9a3eff8f20e06bb7021c57583006c0d            13\nfa5040946dd3eaf7ab5180f7d8f73f9d9f5f3bcf           136\nfa70ea2f3891e0c34636d6efee41828b416afdb2           151\nfab2d8bc998f09d5da120e96141fe59b3301f077            12\nfade154167130137419610cbfd084939811e708b           197\nfb1171550a7ad65f5533d24345e7677c5353168d            15\nfb13597eb86bd34152671436319906c1213f0fb7             6\nfb5e6ffa17b28acc81ad26b47b5c72a94971884e             6\nfb8973ab817e2ce1c1cd0beae90484781b5ebcf5            33\nfbddbd8d921d3f68a47f206b18f1c32d884344ca            10\nfc3ce1eccbd7369da97fa7c3da720570db23057c            18\nfc4e7e99ed8cba64bb91b712ff53ba45f112e72a           277\nfc7f3644153593d23e944d652c3f0c76fd4efc92            13\nfce681504b8cc4a683cb7bc405aae9e0d05d2884            14\nfd5d6d7d44c626c3a08eac117882a380a8a30df6            76\nfd5ec4c47e03971ac1948a24e6b65beebc0fc552            64\nfded857ccab7903d3d13fe2a3efcd6bcd63045e6             4\nfdf4911e325c2733aa5cb89523aaeea7382562c6            52\nfe230aa38ebf31c978d0f58bd6fd5ab9e7ec1e66          1025\nfe6efeb4b1c51dbdb6ac381c39c26fd541396155             2\nfec6ff0b6b8dbf4019d12ae5a01d584b8e56d7e9            32\nff07d6093bc79e3da786a89c97bff131c137c74a            59\nff5dd9f3f46420d596f4fc9b43d9f56be634950e            33\nff6a2f67278d8d92304dba4a85cfac61da9d342b            58\nffa498f17d0b9ec00fb8cf97eb8d819b8df9403e            50\n\n[983 rows x 1 columns]\n"
     ]
    }
   ],
   "source": [
    "print(read_train.groupby([\"restaurant_id\"]).agg({\"restaurant_id\": [np.size]}))"
   ]
  },
  {
   "cell_type": "code",
   "execution_count": 41,
   "metadata": {},
   "outputs": [
    {
     "name": "stdout",
     "output_type": "stream",
     "text": [
      "Empty DataFrame\nColumns: [booking_id, member_id, cdate_x, restaurant_id, datetime, people, purpose, gender_x, status, is_required_prepay_satisfied, return90, is_vip, gender_y, birthdate, city_x, has_google_id, has_yahoo_id, has_weibo_id, cdate_y, is_hotel, country, currency, city_y, good_for_family, accept_credit_card, parking, outdoor_seating, wifi, wheelchair_accessible, price1, price2, lat, lng, cdateYear, cdateMonth]\nIndex: []\n\n[0 rows x 35 columns]\n"
     ]
    }
   ],
   "source": [
    "print(read_train.head(0))"
   ]
  },
  {
   "cell_type": "code",
   "execution_count": 42,
   "metadata": {},
   "outputs": [],
   "source": [
    "# selecting the required columns in train_set\n",
    "train_set = read_train[[\"booking_id\", \"member_id\", \"cdate_x\", \"restaurant_id\", \"datetime\", \n",
    "                        \"people\",\"purpose\", \"gender_x\", \"status\",\"is_required_prepay_satisfied\",\n",
    "                        \"return90\",\"is_vip\", \"birthdate\",\"city_x\",\"has_google_id\",\"has_yahoo_id\",\n",
    "                        \"has_weibo_id\",\"is_hotel\",\"country\",\"currency\",\"good_for_family\",\n",
    "                        \"accept_credit_card\", \"parking\",\"wifi\", \"wheelchair_accessible\",\n",
    "                        \"price1\", \"price2\"]]\n"
   ]
  },
  {
   "cell_type": "code",
   "execution_count": 43,
   "metadata": {},
   "outputs": [
    {
     "name": "stdout",
     "output_type": "stream",
     "text": [
      "(116974, 27)\n"
     ]
    }
   ],
   "source": [
    "print(train_set.shape)"
   ]
  },
  {
   "cell_type": "code",
   "execution_count": 44,
   "metadata": {},
   "outputs": [
    {
     "data": {
      "text/plain": [
       "0           8/8/2013 19:00\n1           6/9/2013 18:00\n2         10/19/2012 18:30\n3          1/24/2014 18:30\n4          3/29/2014 17:30\n5          5/18/2014 17:30\n6           7/6/2014 19:00\n7          6/30/2013 18:00\n8           6/8/2014 18:00\n9          1/19/2014 17:30\n10         7/14/2013 17:30\n11        12/12/2013 12:30\n12         8/10/2013 11:00\n13         6/25/2014 13:00\n14          6/1/2014 14:30\n15         12/1/2013 11:30\n16         8/21/2012 12:00\n17          2/7/2014 11:30\n18        10/24/2012 14:30\n19        12/15/2012 17:30\n20         6/28/2014 12:00\n21        12/23/2013 18:30\n22         4/20/2014 17:30\n23          4/7/2013 13:00\n24         8/13/2013 19:00\n25        11/30/2012 18:30\n26         5/16/2014 18:00\n27         7/15/2013 18:00\n28          5/9/2014 12:00\n29         7/27/2014 11:30\n                ...       \n116944     5/23/2013 18:00\n116945      8/6/2013 18:00\n116946     5/19/2013 20:00\n116947     2/16/2014 20:30\n116948      4/4/2012 12:00\n116949     10/5/2013 19:00\n116950    10/13/2013 12:00\n116951    12/20/2012 12:00\n116952      5/6/2013 18:30\n116953      1/3/2014 12:15\n116954     7/17/2014 11:30\n116955     3/13/2014 19:30\n116956     12/6/2012 15:00\n116957    12/23/2012 19:30\n116958     5/22/2014 17:30\n116959     10/3/2012 18:30\n116960    11/11/2013 11:30\n116961     4/10/2014 14:30\n116962     3/24/2012 16:00\n116963     6/15/2013 15:00\n116964     7/30/2014 17:30\n116965     1/29/2014 11:00\n116966      5/1/2014 12:00\n116967     7/19/2012 18:30\n116968     1/25/2013 12:00\n116969    10/14/2013 19:30\n116970     9/17/2013 11:30\n116971    12/16/2012 12:00\n116972     6/29/2014 18:00\n116973     6/10/2014 19:00\nName: datetime, Length: 116974, dtype: object"
      ]
     },
     "execution_count": 44,
     "metadata": {},
     "output_type": "execute_result"
    }
   ],
   "source": [
    "train_set.datetime"
   ]
  },
  {
   "cell_type": "code",
   "execution_count": null,
   "metadata": {},
   "outputs": [],
   "source": []
  }
 ],
 "metadata": {
  "kernelspec": {
   "display_name": "Python 2",
   "language": "python",
   "name": "python2"
  },
  "language_info": {
   "codemirror_mode": {
    "name": "ipython",
    "version": 2
   },
   "file_extension": ".py",
   "mimetype": "text/x-python",
   "name": "python",
   "nbconvert_exporter": "python",
   "pygments_lexer": "ipython2",
   "version": "2.7.6"
  }
 },
 "nbformat": 4,
 "nbformat_minor": 0
}
